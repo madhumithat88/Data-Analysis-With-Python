{
 "cells": [
  {
   "cell_type": "code",
   "execution_count": 2,
   "metadata": {},
   "outputs": [],
   "source": [
    "import pandas as pd\n",
    "\n",
    "filename='portalTest.csv'\n",
    "df=pd.read_csv(filename)"
   ]
  },
  {
   "cell_type": "code",
   "execution_count": 3,
   "metadata": {},
   "outputs": [
    {
     "data": {
      "text/html": [
       "<div>\n",
       "<style scoped>\n",
       "    .dataframe tbody tr th:only-of-type {\n",
       "        vertical-align: middle;\n",
       "    }\n",
       "\n",
       "    .dataframe tbody tr th {\n",
       "        vertical-align: top;\n",
       "    }\n",
       "\n",
       "    .dataframe thead th {\n",
       "        text-align: right;\n",
       "    }\n",
       "</style>\n",
       "<table border=\"1\" class=\"dataframe\">\n",
       "  <thead>\n",
       "    <tr style=\"text-align: right;\">\n",
       "      <th></th>\n",
       "      <th>operators</th>\n",
       "      <th>technology</th>\n",
       "      <th>test_type</th>\n",
       "      <th>speed</th>\n",
       "      <th>signal_strength</th>\n",
       "      <th>service_area</th>\n",
       "      <th>Quality</th>\n",
       "    </tr>\n",
       "  </thead>\n",
       "  <tbody>\n",
       "    <tr>\n",
       "      <th>0</th>\n",
       "      <td>AIRTEL</td>\n",
       "      <td>4G</td>\n",
       "      <td>download</td>\n",
       "      <td>4794</td>\n",
       "      <td>-53</td>\n",
       "      <td>UP East</td>\n",
       "      <td>Perfect</td>\n",
       "    </tr>\n",
       "    <tr>\n",
       "      <th>1</th>\n",
       "      <td>AIRTEL</td>\n",
       "      <td>4G</td>\n",
       "      <td>upload</td>\n",
       "      <td>536</td>\n",
       "      <td>-59</td>\n",
       "      <td>UP East</td>\n",
       "      <td>Perfect</td>\n",
       "    </tr>\n",
       "    <tr>\n",
       "      <th>2</th>\n",
       "      <td>JIO</td>\n",
       "      <td>4G</td>\n",
       "      <td>download</td>\n",
       "      <td>38507</td>\n",
       "      <td>-59</td>\n",
       "      <td>UP West</td>\n",
       "      <td>Perfect</td>\n",
       "    </tr>\n",
       "    <tr>\n",
       "      <th>3</th>\n",
       "      <td>JIO</td>\n",
       "      <td>4G</td>\n",
       "      <td>download</td>\n",
       "      <td>78938</td>\n",
       "      <td>-59</td>\n",
       "      <td>UP West</td>\n",
       "      <td>Perfect</td>\n",
       "    </tr>\n",
       "    <tr>\n",
       "      <th>4</th>\n",
       "      <td>JIO</td>\n",
       "      <td>4G</td>\n",
       "      <td>upload</td>\n",
       "      <td>3560</td>\n",
       "      <td>-59</td>\n",
       "      <td>UP West</td>\n",
       "      <td>Perfect</td>\n",
       "    </tr>\n",
       "  </tbody>\n",
       "</table>\n",
       "</div>"
      ],
      "text/plain": [
       "  operators technology test_type  speed signal_strength service_area  Quality\n",
       "0    AIRTEL         4G  download   4794             -53      UP East  Perfect\n",
       "1    AIRTEL         4G    upload    536             -59      UP East  Perfect\n",
       "2       JIO         4G  download  38507             -59      UP West  Perfect\n",
       "3       JIO         4G  download  78938             -59      UP West  Perfect\n",
       "4       JIO         4G    upload   3560             -59      UP West  Perfect"
      ]
     },
     "execution_count": 3,
     "metadata": {},
     "output_type": "execute_result"
    }
   ],
   "source": [
    "df.head()"
   ]
  },
  {
   "cell_type": "code",
   "execution_count": 4,
   "metadata": {},
   "outputs": [
    {
     "data": {
      "text/html": [
       "<div>\n",
       "<style scoped>\n",
       "    .dataframe tbody tr th:only-of-type {\n",
       "        vertical-align: middle;\n",
       "    }\n",
       "\n",
       "    .dataframe tbody tr th {\n",
       "        vertical-align: top;\n",
       "    }\n",
       "\n",
       "    .dataframe thead th {\n",
       "        text-align: right;\n",
       "    }\n",
       "</style>\n",
       "<table border=\"1\" class=\"dataframe\">\n",
       "  <thead>\n",
       "    <tr style=\"text-align: right;\">\n",
       "      <th></th>\n",
       "      <th>operators</th>\n",
       "      <th>technology</th>\n",
       "      <th>test_type</th>\n",
       "      <th>speed</th>\n",
       "      <th>signal_strength</th>\n",
       "      <th>service_area</th>\n",
       "      <th>Quality</th>\n",
       "    </tr>\n",
       "  </thead>\n",
       "  <tbody>\n",
       "    <tr>\n",
       "      <th>523751</th>\n",
       "      <td>JIO</td>\n",
       "      <td>4G</td>\n",
       "      <td>download</td>\n",
       "      <td>14941</td>\n",
       "      <td>na</td>\n",
       "      <td>Delhi</td>\n",
       "      <td>NaN</td>\n",
       "    </tr>\n",
       "    <tr>\n",
       "      <th>523752</th>\n",
       "      <td>AIRTEL</td>\n",
       "      <td>4G</td>\n",
       "      <td>download</td>\n",
       "      <td>616</td>\n",
       "      <td>na</td>\n",
       "      <td>Delhi</td>\n",
       "      <td>NaN</td>\n",
       "    </tr>\n",
       "    <tr>\n",
       "      <th>523753</th>\n",
       "      <td>JIO</td>\n",
       "      <td>4G</td>\n",
       "      <td>download</td>\n",
       "      <td>4528</td>\n",
       "      <td>na</td>\n",
       "      <td>Delhi</td>\n",
       "      <td>NaN</td>\n",
       "    </tr>\n",
       "    <tr>\n",
       "      <th>523754</th>\n",
       "      <td>AIRTEL</td>\n",
       "      <td>4G</td>\n",
       "      <td>download</td>\n",
       "      <td>2080</td>\n",
       "      <td>-85</td>\n",
       "      <td>Kerala</td>\n",
       "      <td>NaN</td>\n",
       "    </tr>\n",
       "    <tr>\n",
       "      <th>523755</th>\n",
       "      <td>AIRTEL</td>\n",
       "      <td>4G</td>\n",
       "      <td>upload</td>\n",
       "      <td>421</td>\n",
       "      <td>-85</td>\n",
       "      <td>Kerala</td>\n",
       "      <td>NaN</td>\n",
       "    </tr>\n",
       "  </tbody>\n",
       "</table>\n",
       "</div>"
      ],
      "text/plain": [
       "       operators technology test_type  speed signal_strength service_area  \\\n",
       "523751       JIO         4G  download  14941              na        Delhi   \n",
       "523752    AIRTEL         4G  download    616              na        Delhi   \n",
       "523753       JIO         4G  download   4528              na        Delhi   \n",
       "523754    AIRTEL         4G  download   2080             -85       Kerala   \n",
       "523755    AIRTEL         4G    upload    421             -85       Kerala   \n",
       "\n",
       "       Quality  \n",
       "523751     NaN  \n",
       "523752     NaN  \n",
       "523753     NaN  \n",
       "523754     NaN  \n",
       "523755     NaN  "
      ]
     },
     "execution_count": 4,
     "metadata": {},
     "output_type": "execute_result"
    }
   ],
   "source": [
    "df.tail()"
   ]
  },
  {
   "cell_type": "code",
   "execution_count": 5,
   "metadata": {},
   "outputs": [
    {
     "data": {
      "text/plain": [
       "operators          object\n",
       "technology         object\n",
       "test_type          object\n",
       "speed               int64\n",
       "signal_strength    object\n",
       "service_area       object\n",
       "Quality            object\n",
       "dtype: object"
      ]
     },
     "execution_count": 5,
     "metadata": {},
     "output_type": "execute_result"
    }
   ],
   "source": [
    "df.dtypes"
   ]
  },
  {
   "cell_type": "code",
   "execution_count": 6,
   "metadata": {},
   "outputs": [
    {
     "name": "stdout",
     "output_type": "stream",
     "text": [
      "<class 'pandas.core.frame.DataFrame'>\n",
      "RangeIndex: 523756 entries, 0 to 523755\n",
      "Data columns (total 7 columns):\n",
      " #   Column           Non-Null Count   Dtype \n",
      "---  ------           --------------   ----- \n",
      " 0   operators        523756 non-null  object\n",
      " 1   technology       523756 non-null  object\n",
      " 2   test_type        523756 non-null  object\n",
      " 3   speed            523756 non-null  int64 \n",
      " 4   signal_strength  523756 non-null  object\n",
      " 5   service_area     519085 non-null  object\n",
      " 6   Quality          601 non-null     object\n",
      "dtypes: int64(1), object(6)\n",
      "memory usage: 28.0+ MB\n"
     ]
    }
   ],
   "source": [
    "df.info()"
   ]
  },
  {
   "cell_type": "code",
   "execution_count": 7,
   "metadata": {},
   "outputs": [
    {
     "data": {
      "text/plain": [
       "(523756, 7)"
      ]
     },
     "execution_count": 7,
     "metadata": {},
     "output_type": "execute_result"
    }
   ],
   "source": [
    "df.shape"
   ]
  },
  {
   "cell_type": "code",
   "execution_count": 8,
   "metadata": {},
   "outputs": [
    {
     "data": {
      "text/plain": [
       "0    AIRTEL\n",
       "1    AIRTEL\n",
       "2       JIO\n",
       "3       JIO\n",
       "4       JIO\n",
       "Name: operators, dtype: object"
      ]
     },
     "execution_count": 8,
     "metadata": {},
     "output_type": "execute_result"
    }
   ],
   "source": [
    "df['operators'].head()"
   ]
  },
  {
   "cell_type": "code",
   "execution_count": 9,
   "metadata": {},
   "outputs": [
    {
     "data": {
      "text/html": [
       "<div>\n",
       "<style scoped>\n",
       "    .dataframe tbody tr th:only-of-type {\n",
       "        vertical-align: middle;\n",
       "    }\n",
       "\n",
       "    .dataframe tbody tr th {\n",
       "        vertical-align: top;\n",
       "    }\n",
       "\n",
       "    .dataframe thead th {\n",
       "        text-align: right;\n",
       "    }\n",
       "</style>\n",
       "<table border=\"1\" class=\"dataframe\">\n",
       "  <thead>\n",
       "    <tr style=\"text-align: right;\">\n",
       "      <th></th>\n",
       "      <th>operators</th>\n",
       "    </tr>\n",
       "  </thead>\n",
       "  <tbody>\n",
       "    <tr>\n",
       "      <th>0</th>\n",
       "      <td>AIRTEL</td>\n",
       "    </tr>\n",
       "    <tr>\n",
       "      <th>1</th>\n",
       "      <td>AIRTEL</td>\n",
       "    </tr>\n",
       "    <tr>\n",
       "      <th>2</th>\n",
       "      <td>JIO</td>\n",
       "    </tr>\n",
       "    <tr>\n",
       "      <th>3</th>\n",
       "      <td>JIO</td>\n",
       "    </tr>\n",
       "    <tr>\n",
       "      <th>4</th>\n",
       "      <td>JIO</td>\n",
       "    </tr>\n",
       "  </tbody>\n",
       "</table>\n",
       "</div>"
      ],
      "text/plain": [
       "  operators\n",
       "0    AIRTEL\n",
       "1    AIRTEL\n",
       "2       JIO\n",
       "3       JIO\n",
       "4       JIO"
      ]
     },
     "execution_count": 9,
     "metadata": {},
     "output_type": "execute_result"
    }
   ],
   "source": [
    "df[['operators']].head()"
   ]
  },
  {
   "cell_type": "code",
   "execution_count": 10,
   "metadata": {},
   "outputs": [
    {
     "data": {
      "text/html": [
       "<div>\n",
       "<style scoped>\n",
       "    .dataframe tbody tr th:only-of-type {\n",
       "        vertical-align: middle;\n",
       "    }\n",
       "\n",
       "    .dataframe tbody tr th {\n",
       "        vertical-align: top;\n",
       "    }\n",
       "\n",
       "    .dataframe thead th {\n",
       "        text-align: right;\n",
       "    }\n",
       "</style>\n",
       "<table border=\"1\" class=\"dataframe\">\n",
       "  <thead>\n",
       "    <tr style=\"text-align: right;\">\n",
       "      <th></th>\n",
       "      <th>operators</th>\n",
       "    </tr>\n",
       "  </thead>\n",
       "  <tbody>\n",
       "    <tr>\n",
       "      <th>0</th>\n",
       "      <td>AIRTEL</td>\n",
       "    </tr>\n",
       "    <tr>\n",
       "      <th>1</th>\n",
       "      <td>AIRTEL</td>\n",
       "    </tr>\n",
       "    <tr>\n",
       "      <th>2</th>\n",
       "      <td>JIO</td>\n",
       "    </tr>\n",
       "    <tr>\n",
       "      <th>3</th>\n",
       "      <td>JIO</td>\n",
       "    </tr>\n",
       "    <tr>\n",
       "      <th>4</th>\n",
       "      <td>JIO</td>\n",
       "    </tr>\n",
       "  </tbody>\n",
       "</table>\n",
       "</div>"
      ],
      "text/plain": [
       "  operators\n",
       "0    AIRTEL\n",
       "1    AIRTEL\n",
       "2       JIO\n",
       "3       JIO\n",
       "4       JIO"
      ]
     },
     "execution_count": 10,
     "metadata": {},
     "output_type": "execute_result"
    }
   ],
   "source": [
    "df[['operators']].head()"
   ]
  },
  {
   "cell_type": "code",
   "execution_count": 11,
   "metadata": {},
   "outputs": [
    {
     "data": {
      "text/plain": [
       "JIO         267401\n",
       "AIRTEL      158725\n",
       "VODAFONE     41450\n",
       "IDEA         41125\n",
       "CELLONE      15055\n",
       "Name: operators, dtype: int64"
      ]
     },
     "execution_count": 11,
     "metadata": {},
     "output_type": "execute_result"
    }
   ],
   "source": [
    "df['operators'].value_counts()"
   ]
  },
  {
   "cell_type": "code",
   "execution_count": 12,
   "metadata": {},
   "outputs": [],
   "source": [
    "filters=df['operators']=='JIO'"
   ]
  },
  {
   "cell_type": "code",
   "execution_count": 13,
   "metadata": {},
   "outputs": [
    {
     "data": {
      "text/html": [
       "<div>\n",
       "<style scoped>\n",
       "    .dataframe tbody tr th:only-of-type {\n",
       "        vertical-align: middle;\n",
       "    }\n",
       "\n",
       "    .dataframe tbody tr th {\n",
       "        vertical-align: top;\n",
       "    }\n",
       "\n",
       "    .dataframe thead th {\n",
       "        text-align: right;\n",
       "    }\n",
       "</style>\n",
       "<table border=\"1\" class=\"dataframe\">\n",
       "  <thead>\n",
       "    <tr style=\"text-align: right;\">\n",
       "      <th></th>\n",
       "      <th>operators</th>\n",
       "      <th>technology</th>\n",
       "      <th>test_type</th>\n",
       "      <th>speed</th>\n",
       "      <th>signal_strength</th>\n",
       "      <th>service_area</th>\n",
       "      <th>Quality</th>\n",
       "    </tr>\n",
       "  </thead>\n",
       "  <tbody>\n",
       "    <tr>\n",
       "      <th>2</th>\n",
       "      <td>JIO</td>\n",
       "      <td>4G</td>\n",
       "      <td>download</td>\n",
       "      <td>38507</td>\n",
       "      <td>-59</td>\n",
       "      <td>UP West</td>\n",
       "      <td>Perfect</td>\n",
       "    </tr>\n",
       "    <tr>\n",
       "      <th>3</th>\n",
       "      <td>JIO</td>\n",
       "      <td>4G</td>\n",
       "      <td>download</td>\n",
       "      <td>78938</td>\n",
       "      <td>-59</td>\n",
       "      <td>UP West</td>\n",
       "      <td>Perfect</td>\n",
       "    </tr>\n",
       "    <tr>\n",
       "      <th>4</th>\n",
       "      <td>JIO</td>\n",
       "      <td>4G</td>\n",
       "      <td>upload</td>\n",
       "      <td>3560</td>\n",
       "      <td>-59</td>\n",
       "      <td>UP West</td>\n",
       "      <td>Perfect</td>\n",
       "    </tr>\n",
       "    <tr>\n",
       "      <th>5</th>\n",
       "      <td>JIO</td>\n",
       "      <td>4G</td>\n",
       "      <td>upload</td>\n",
       "      <td>5446</td>\n",
       "      <td>-59</td>\n",
       "      <td>UP West</td>\n",
       "      <td>Perfect</td>\n",
       "    </tr>\n",
       "    <tr>\n",
       "      <th>6</th>\n",
       "      <td>JIO</td>\n",
       "      <td>4G</td>\n",
       "      <td>download</td>\n",
       "      <td>80419</td>\n",
       "      <td>-60</td>\n",
       "      <td>UP West</td>\n",
       "      <td>Perfect</td>\n",
       "    </tr>\n",
       "  </tbody>\n",
       "</table>\n",
       "</div>"
      ],
      "text/plain": [
       "  operators technology test_type  speed signal_strength service_area  Quality\n",
       "2       JIO         4G  download  38507             -59      UP West  Perfect\n",
       "3       JIO         4G  download  78938             -59      UP West  Perfect\n",
       "4       JIO         4G    upload   3560             -59      UP West  Perfect\n",
       "5       JIO         4G    upload   5446             -59      UP West  Perfect\n",
       "6       JIO         4G  download  80419             -60      UP West  Perfect"
      ]
     },
     "execution_count": 13,
     "metadata": {},
     "output_type": "execute_result"
    }
   ],
   "source": [
    "df[filters].head()"
   ]
  },
  {
   "cell_type": "code",
   "execution_count": 14,
   "metadata": {},
   "outputs": [],
   "source": [
    "df_copy=df[filters]"
   ]
  },
  {
   "cell_type": "code",
   "execution_count": 15,
   "metadata": {},
   "outputs": [
    {
     "data": {
      "text/html": [
       "<div>\n",
       "<style scoped>\n",
       "    .dataframe tbody tr th:only-of-type {\n",
       "        vertical-align: middle;\n",
       "    }\n",
       "\n",
       "    .dataframe tbody tr th {\n",
       "        vertical-align: top;\n",
       "    }\n",
       "\n",
       "    .dataframe thead th {\n",
       "        text-align: right;\n",
       "    }\n",
       "</style>\n",
       "<table border=\"1\" class=\"dataframe\">\n",
       "  <thead>\n",
       "    <tr style=\"text-align: right;\">\n",
       "      <th></th>\n",
       "      <th>operators</th>\n",
       "      <th>technology</th>\n",
       "      <th>test_type</th>\n",
       "      <th>speed</th>\n",
       "      <th>signal_strength</th>\n",
       "      <th>service_area</th>\n",
       "      <th>Quality</th>\n",
       "    </tr>\n",
       "  </thead>\n",
       "  <tbody>\n",
       "    <tr>\n",
       "      <th>2</th>\n",
       "      <td>JIO</td>\n",
       "      <td>4G</td>\n",
       "      <td>download</td>\n",
       "      <td>38507</td>\n",
       "      <td>-59</td>\n",
       "      <td>UP West</td>\n",
       "      <td>Perfect</td>\n",
       "    </tr>\n",
       "    <tr>\n",
       "      <th>3</th>\n",
       "      <td>JIO</td>\n",
       "      <td>4G</td>\n",
       "      <td>download</td>\n",
       "      <td>78938</td>\n",
       "      <td>-59</td>\n",
       "      <td>UP West</td>\n",
       "      <td>Perfect</td>\n",
       "    </tr>\n",
       "    <tr>\n",
       "      <th>4</th>\n",
       "      <td>JIO</td>\n",
       "      <td>4G</td>\n",
       "      <td>upload</td>\n",
       "      <td>3560</td>\n",
       "      <td>-59</td>\n",
       "      <td>UP West</td>\n",
       "      <td>Perfect</td>\n",
       "    </tr>\n",
       "    <tr>\n",
       "      <th>5</th>\n",
       "      <td>JIO</td>\n",
       "      <td>4G</td>\n",
       "      <td>upload</td>\n",
       "      <td>5446</td>\n",
       "      <td>-59</td>\n",
       "      <td>UP West</td>\n",
       "      <td>Perfect</td>\n",
       "    </tr>\n",
       "    <tr>\n",
       "      <th>6</th>\n",
       "      <td>JIO</td>\n",
       "      <td>4G</td>\n",
       "      <td>download</td>\n",
       "      <td>80419</td>\n",
       "      <td>-60</td>\n",
       "      <td>UP West</td>\n",
       "      <td>Perfect</td>\n",
       "    </tr>\n",
       "  </tbody>\n",
       "</table>\n",
       "</div>"
      ],
      "text/plain": [
       "  operators technology test_type  speed signal_strength service_area  Quality\n",
       "2       JIO         4G  download  38507             -59      UP West  Perfect\n",
       "3       JIO         4G  download  78938             -59      UP West  Perfect\n",
       "4       JIO         4G    upload   3560             -59      UP West  Perfect\n",
       "5       JIO         4G    upload   5446             -59      UP West  Perfect\n",
       "6       JIO         4G  download  80419             -60      UP West  Perfect"
      ]
     },
     "execution_count": 15,
     "metadata": {},
     "output_type": "execute_result"
    }
   ],
   "source": [
    "df_copy.head()"
   ]
  },
  {
   "cell_type": "code",
   "execution_count": 16,
   "metadata": {},
   "outputs": [
    {
     "data": {
      "text/plain": [
       "JIO    267401\n",
       "Name: operators, dtype: int64"
      ]
     },
     "execution_count": 16,
     "metadata": {},
     "output_type": "execute_result"
    }
   ],
   "source": [
    "df_copy['operators'].value_counts()"
   ]
  },
  {
   "cell_type": "code",
   "execution_count": 17,
   "metadata": {},
   "outputs": [
    {
     "data": {
      "text/plain": [
       "False    261681\n",
       "True       5720\n",
       "Name: signal_strength, dtype: int64"
      ]
     },
     "execution_count": 17,
     "metadata": {},
     "output_type": "execute_result"
    }
   ],
   "source": [
    "(df_copy['signal_strength']=='-62').value_counts()"
   ]
  },
  {
   "cell_type": "code",
   "execution_count": 18,
   "metadata": {},
   "outputs": [],
   "source": [
    "filtersignal=df_copy['signal_strength']=='-62'"
   ]
  },
  {
   "cell_type": "code",
   "execution_count": 19,
   "metadata": {},
   "outputs": [],
   "source": [
    "df_final=df_copy[filtersignal]"
   ]
  },
  {
   "cell_type": "code",
   "execution_count": 20,
   "metadata": {},
   "outputs": [
    {
     "data": {
      "text/html": [
       "<div>\n",
       "<style scoped>\n",
       "    .dataframe tbody tr th:only-of-type {\n",
       "        vertical-align: middle;\n",
       "    }\n",
       "\n",
       "    .dataframe tbody tr th {\n",
       "        vertical-align: top;\n",
       "    }\n",
       "\n",
       "    .dataframe thead th {\n",
       "        text-align: right;\n",
       "    }\n",
       "</style>\n",
       "<table border=\"1\" class=\"dataframe\">\n",
       "  <thead>\n",
       "    <tr style=\"text-align: right;\">\n",
       "      <th></th>\n",
       "      <th>operators</th>\n",
       "      <th>technology</th>\n",
       "      <th>test_type</th>\n",
       "      <th>speed</th>\n",
       "      <th>signal_strength</th>\n",
       "      <th>service_area</th>\n",
       "      <th>Quality</th>\n",
       "    </tr>\n",
       "  </thead>\n",
       "  <tbody>\n",
       "    <tr>\n",
       "      <th>8</th>\n",
       "      <td>JIO</td>\n",
       "      <td>4G</td>\n",
       "      <td>download</td>\n",
       "      <td>6550</td>\n",
       "      <td>-62</td>\n",
       "      <td>Rajasthan</td>\n",
       "      <td>Perfect</td>\n",
       "    </tr>\n",
       "    <tr>\n",
       "      <th>9</th>\n",
       "      <td>JIO</td>\n",
       "      <td>4G</td>\n",
       "      <td>download</td>\n",
       "      <td>5900</td>\n",
       "      <td>-62</td>\n",
       "      <td>Rajasthan</td>\n",
       "      <td>Perfect</td>\n",
       "    </tr>\n",
       "    <tr>\n",
       "      <th>10</th>\n",
       "      <td>JIO</td>\n",
       "      <td>4G</td>\n",
       "      <td>upload</td>\n",
       "      <td>7643</td>\n",
       "      <td>-62</td>\n",
       "      <td>Rajasthan</td>\n",
       "      <td>Perfect</td>\n",
       "    </tr>\n",
       "    <tr>\n",
       "      <th>11</th>\n",
       "      <td>JIO</td>\n",
       "      <td>4G</td>\n",
       "      <td>upload</td>\n",
       "      <td>5102</td>\n",
       "      <td>-62</td>\n",
       "      <td>Rajasthan</td>\n",
       "      <td>Perfect</td>\n",
       "    </tr>\n",
       "    <tr>\n",
       "      <th>24</th>\n",
       "      <td>JIO</td>\n",
       "      <td>4G</td>\n",
       "      <td>download</td>\n",
       "      <td>39125</td>\n",
       "      <td>-62</td>\n",
       "      <td>Gujarat</td>\n",
       "      <td>Perfect</td>\n",
       "    </tr>\n",
       "  </tbody>\n",
       "</table>\n",
       "</div>"
      ],
      "text/plain": [
       "   operators technology test_type  speed signal_strength service_area  Quality\n",
       "8        JIO         4G  download   6550             -62    Rajasthan  Perfect\n",
       "9        JIO         4G  download   5900             -62    Rajasthan  Perfect\n",
       "10       JIO         4G    upload   7643             -62    Rajasthan  Perfect\n",
       "11       JIO         4G    upload   5102             -62    Rajasthan  Perfect\n",
       "24       JIO         4G  download  39125             -62      Gujarat  Perfect"
      ]
     },
     "execution_count": 20,
     "metadata": {},
     "output_type": "execute_result"
    }
   ],
   "source": [
    "df_final.head()"
   ]
  },
  {
   "cell_type": "code",
   "execution_count": 21,
   "metadata": {},
   "outputs": [
    {
     "data": {
      "text/plain": [
       "operators          5720\n",
       "technology         5720\n",
       "test_type          5720\n",
       "speed              5720\n",
       "signal_strength    5720\n",
       "service_area       5715\n",
       "Quality               6\n",
       "dtype: int64"
      ]
     },
     "execution_count": 21,
     "metadata": {},
     "output_type": "execute_result"
    }
   ],
   "source": [
    "df_final.count()"
   ]
  },
  {
   "cell_type": "code",
   "execution_count": 22,
   "metadata": {},
   "outputs": [],
   "source": [
    "df_final=df_final.rename(columns={'Quality' : 'quality'})"
   ]
  },
  {
   "cell_type": "code",
   "execution_count": 23,
   "metadata": {},
   "outputs": [
    {
     "data": {
      "text/html": [
       "<div>\n",
       "<style scoped>\n",
       "    .dataframe tbody tr th:only-of-type {\n",
       "        vertical-align: middle;\n",
       "    }\n",
       "\n",
       "    .dataframe tbody tr th {\n",
       "        vertical-align: top;\n",
       "    }\n",
       "\n",
       "    .dataframe thead th {\n",
       "        text-align: right;\n",
       "    }\n",
       "</style>\n",
       "<table border=\"1\" class=\"dataframe\">\n",
       "  <thead>\n",
       "    <tr style=\"text-align: right;\">\n",
       "      <th></th>\n",
       "      <th>operators</th>\n",
       "      <th>technology</th>\n",
       "      <th>test_type</th>\n",
       "      <th>speed</th>\n",
       "      <th>signal_strength</th>\n",
       "      <th>service_area</th>\n",
       "      <th>quality</th>\n",
       "    </tr>\n",
       "  </thead>\n",
       "  <tbody>\n",
       "    <tr>\n",
       "      <th>8</th>\n",
       "      <td>JIO</td>\n",
       "      <td>4G</td>\n",
       "      <td>download</td>\n",
       "      <td>6550</td>\n",
       "      <td>-62</td>\n",
       "      <td>Rajasthan</td>\n",
       "      <td>Perfect</td>\n",
       "    </tr>\n",
       "    <tr>\n",
       "      <th>9</th>\n",
       "      <td>JIO</td>\n",
       "      <td>4G</td>\n",
       "      <td>download</td>\n",
       "      <td>5900</td>\n",
       "      <td>-62</td>\n",
       "      <td>Rajasthan</td>\n",
       "      <td>Perfect</td>\n",
       "    </tr>\n",
       "    <tr>\n",
       "      <th>10</th>\n",
       "      <td>JIO</td>\n",
       "      <td>4G</td>\n",
       "      <td>upload</td>\n",
       "      <td>7643</td>\n",
       "      <td>-62</td>\n",
       "      <td>Rajasthan</td>\n",
       "      <td>Perfect</td>\n",
       "    </tr>\n",
       "    <tr>\n",
       "      <th>11</th>\n",
       "      <td>JIO</td>\n",
       "      <td>4G</td>\n",
       "      <td>upload</td>\n",
       "      <td>5102</td>\n",
       "      <td>-62</td>\n",
       "      <td>Rajasthan</td>\n",
       "      <td>Perfect</td>\n",
       "    </tr>\n",
       "    <tr>\n",
       "      <th>24</th>\n",
       "      <td>JIO</td>\n",
       "      <td>4G</td>\n",
       "      <td>download</td>\n",
       "      <td>39125</td>\n",
       "      <td>-62</td>\n",
       "      <td>Gujarat</td>\n",
       "      <td>Perfect</td>\n",
       "    </tr>\n",
       "  </tbody>\n",
       "</table>\n",
       "</div>"
      ],
      "text/plain": [
       "   operators technology test_type  speed signal_strength service_area  quality\n",
       "8        JIO         4G  download   6550             -62    Rajasthan  Perfect\n",
       "9        JIO         4G  download   5900             -62    Rajasthan  Perfect\n",
       "10       JIO         4G    upload   7643             -62    Rajasthan  Perfect\n",
       "11       JIO         4G    upload   5102             -62    Rajasthan  Perfect\n",
       "24       JIO         4G  download  39125             -62      Gujarat  Perfect"
      ]
     },
     "execution_count": 23,
     "metadata": {},
     "output_type": "execute_result"
    }
   ],
   "source": [
    "df_final.head()"
   ]
  },
  {
   "cell_type": "code",
   "execution_count": 25,
   "metadata": {},
   "outputs": [],
   "source": [
    "df_final=df_final.drop(columns={'quality'})"
   ]
  },
  {
   "cell_type": "code",
   "execution_count": 26,
   "metadata": {},
   "outputs": [
    {
     "data": {
      "text/html": [
       "<div>\n",
       "<style scoped>\n",
       "    .dataframe tbody tr th:only-of-type {\n",
       "        vertical-align: middle;\n",
       "    }\n",
       "\n",
       "    .dataframe tbody tr th {\n",
       "        vertical-align: top;\n",
       "    }\n",
       "\n",
       "    .dataframe thead th {\n",
       "        text-align: right;\n",
       "    }\n",
       "</style>\n",
       "<table border=\"1\" class=\"dataframe\">\n",
       "  <thead>\n",
       "    <tr style=\"text-align: right;\">\n",
       "      <th></th>\n",
       "      <th>operators</th>\n",
       "      <th>technology</th>\n",
       "      <th>test_type</th>\n",
       "      <th>speed</th>\n",
       "      <th>signal_strength</th>\n",
       "      <th>service_area</th>\n",
       "    </tr>\n",
       "  </thead>\n",
       "  <tbody>\n",
       "    <tr>\n",
       "      <th>8</th>\n",
       "      <td>JIO</td>\n",
       "      <td>4G</td>\n",
       "      <td>download</td>\n",
       "      <td>6550</td>\n",
       "      <td>-62</td>\n",
       "      <td>Rajasthan</td>\n",
       "    </tr>\n",
       "    <tr>\n",
       "      <th>9</th>\n",
       "      <td>JIO</td>\n",
       "      <td>4G</td>\n",
       "      <td>download</td>\n",
       "      <td>5900</td>\n",
       "      <td>-62</td>\n",
       "      <td>Rajasthan</td>\n",
       "    </tr>\n",
       "    <tr>\n",
       "      <th>10</th>\n",
       "      <td>JIO</td>\n",
       "      <td>4G</td>\n",
       "      <td>upload</td>\n",
       "      <td>7643</td>\n",
       "      <td>-62</td>\n",
       "      <td>Rajasthan</td>\n",
       "    </tr>\n",
       "    <tr>\n",
       "      <th>11</th>\n",
       "      <td>JIO</td>\n",
       "      <td>4G</td>\n",
       "      <td>upload</td>\n",
       "      <td>5102</td>\n",
       "      <td>-62</td>\n",
       "      <td>Rajasthan</td>\n",
       "    </tr>\n",
       "    <tr>\n",
       "      <th>24</th>\n",
       "      <td>JIO</td>\n",
       "      <td>4G</td>\n",
       "      <td>download</td>\n",
       "      <td>39125</td>\n",
       "      <td>-62</td>\n",
       "      <td>Gujarat</td>\n",
       "    </tr>\n",
       "  </tbody>\n",
       "</table>\n",
       "</div>"
      ],
      "text/plain": [
       "   operators technology test_type  speed signal_strength service_area\n",
       "8        JIO         4G  download   6550             -62    Rajasthan\n",
       "9        JIO         4G  download   5900             -62    Rajasthan\n",
       "10       JIO         4G    upload   7643             -62    Rajasthan\n",
       "11       JIO         4G    upload   5102             -62    Rajasthan\n",
       "24       JIO         4G  download  39125             -62      Gujarat"
      ]
     },
     "execution_count": 26,
     "metadata": {},
     "output_type": "execute_result"
    }
   ],
   "source": [
    "df_final.head()"
   ]
  },
  {
   "cell_type": "code",
   "execution_count": 27,
   "metadata": {},
   "outputs": [
    {
     "data": {
      "text/plain": [
       "171510100"
      ]
     },
     "execution_count": 27,
     "metadata": {},
     "output_type": "execute_result"
    }
   ],
   "source": [
    "df_final['speed'].sum()"
   ]
  },
  {
   "cell_type": "code",
   "execution_count": 1,
   "metadata": {},
   "outputs": [
    {
     "ename": "NameError",
     "evalue": "name 'df_final' is not defined",
     "output_type": "error",
     "traceback": [
      "\u001b[1;31m---------------------------------------------------------------------------\u001b[0m",
      "\u001b[1;31mNameError\u001b[0m                                 Traceback (most recent call last)",
      "\u001b[1;32m<ipython-input-1-033d193817fb>\u001b[0m in \u001b[0;36m<module>\u001b[1;34m\u001b[0m\n\u001b[1;32m----> 1\u001b[1;33m \u001b[0mdf_final\u001b[0m\u001b[1;33m[\u001b[0m\u001b[1;34m'speed'\u001b[0m\u001b[1;33m]\u001b[0m\u001b[1;33m.\u001b[0m\u001b[0misna\u001b[0m\u001b[1;33m(\u001b[0m\u001b[1;33m)\u001b[0m\u001b[1;33m.\u001b[0m\u001b[0msum\u001b[0m\u001b[1;33m(\u001b[0m\u001b[1;33m)\u001b[0m\u001b[1;33m\u001b[0m\u001b[1;33m\u001b[0m\u001b[0m\n\u001b[0m",
      "\u001b[1;31mNameError\u001b[0m: name 'df_final' is not defined"
     ]
    }
   ],
   "source": [
    "df_final['speed'].isna().sum()"
   ]
  },
  {
   "cell_type": "code",
   "execution_count": 30,
   "metadata": {},
   "outputs": [
    {
     "name": "stdout",
     "output_type": "stream",
     "text": [
      "<class 'pandas.core.frame.DataFrame'>\n",
      "Int64Index: 5720 entries, 8 to 523697\n",
      "Data columns (total 6 columns):\n",
      " #   Column           Non-Null Count  Dtype \n",
      "---  ------           --------------  ----- \n",
      " 0   operators        5720 non-null   object\n",
      " 1   technology       5720 non-null   object\n",
      " 2   test_type        5720 non-null   object\n",
      " 3   speed            5720 non-null   int64 \n",
      " 4   signal_strength  5720 non-null   object\n",
      " 5   service_area     5715 non-null   object\n",
      "dtypes: int64(1), object(5)\n",
      "memory usage: 312.8+ KB\n"
     ]
    }
   ],
   "source": [
    "df_final.info()"
   ]
  },
  {
   "cell_type": "code",
   "execution_count": 35,
   "metadata": {},
   "outputs": [
    {
     "data": {
      "text/plain": [
       "5"
      ]
     },
     "execution_count": 35,
     "metadata": {},
     "output_type": "execute_result"
    }
   ],
   "source": [
    "df_final['service_area'].isna().sum()"
   ]
  },
  {
   "cell_type": "code",
   "execution_count": 38,
   "metadata": {},
   "outputs": [],
   "source": [
    "df_final=df_final.dropna(how = 'any')"
   ]
  },
  {
   "cell_type": "code",
   "execution_count": 40,
   "metadata": {},
   "outputs": [
    {
     "name": "stdout",
     "output_type": "stream",
     "text": [
      "<class 'pandas.core.frame.DataFrame'>\n",
      "Int64Index: 5715 entries, 8 to 523697\n",
      "Data columns (total 6 columns):\n",
      " #   Column           Non-Null Count  Dtype \n",
      "---  ------           --------------  ----- \n",
      " 0   operators        5715 non-null   object\n",
      " 1   technology       5715 non-null   object\n",
      " 2   test_type        5715 non-null   object\n",
      " 3   speed            5715 non-null   int64 \n",
      " 4   signal_strength  5715 non-null   object\n",
      " 5   service_area     5715 non-null   object\n",
      "dtypes: int64(1), object(5)\n",
      "memory usage: 312.5+ KB\n"
     ]
    }
   ],
   "source": [
    "df_final.info()"
   ]
  },
  {
   "cell_type": "code",
   "execution_count": 42,
   "metadata": {},
   "outputs": [],
   "source": [
    "df_final.to_csv(path_or_buf ='final.csv', index= False)"
   ]
  },
  {
   "cell_type": "code",
   "execution_count": null,
   "metadata": {},
   "outputs": [],
   "source": []
  }
 ],
 "metadata": {
  "kernelspec": {
   "display_name": "Python 3",
   "language": "python",
   "name": "python3"
  },
  "language_info": {
   "codemirror_mode": {
    "name": "ipython",
    "version": 3
   },
   "file_extension": ".py",
   "mimetype": "text/x-python",
   "name": "python",
   "nbconvert_exporter": "python",
   "pygments_lexer": "ipython3",
   "version": "3.8.5"
  }
 },
 "nbformat": 4,
 "nbformat_minor": 4
}
